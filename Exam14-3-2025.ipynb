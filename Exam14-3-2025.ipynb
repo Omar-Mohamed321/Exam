{
 "cells": [
  {
   "cell_type": "code",
   "execution_count": 1,
   "id": "5321f92d-0028-4b5c-9add-802461f69688",
   "metadata": {},
   "outputs": [
    {
     "name": "stdout",
     "output_type": "stream",
     "text": [
      "\n",
      "Library Book Management System\n",
      "1. View all books\n",
      "2. Add a new book\n",
      "3. Remove a book\n",
      "4. Search for a book\n",
      "5. Exit\n"
     ]
    },
    {
     "name": "stdin",
     "output_type": "stream",
     "text": [
      "Enter your choice:  5\n"
     ]
    },
    {
     "name": "stdout",
     "output_type": "stream",
     "text": [
      "Exiting the program. Goodbye!\n"
     ]
    }
   ],
   "source": [
    "\n",
    "book_titles = []\n",
    "\n",
    "def display_books():\n",
    "    if not book_titles:\n",
    "        print(\"No books available.\")\n",
    "    else:\n",
    "        print(\"Available Books:\")\n",
    "        for i, title in enumerate(book_titles, start=1):\n",
    "            print(f\"{i}. {title}\")\n",
    "\n",
    "def add_book():\n",
    "    title = input(\"Enter book title: \")\n",
    "    book_titles.append(title)\n",
    "    print(f\"{title} added successfully!\")\n",
    "\n",
    "def remove_book():\n",
    "    title = input(\"Enter book title to remove: \")\n",
    "    if title in book_titles:\n",
    "        book_titles.remove(title)\n",
    "        print(f\"{title} removed successfully!\")\n",
    "    else:\n",
    "        print(\"Book not found.\")\n",
    "\n",
    "def search_book():\n",
    "    title = input(\"Enter book title to search: \")\n",
    "    if title in book_titles:\n",
    "        print(f\"{title} found in the library.\")\n",
    "    else:\n",
    "        print(\"Book not found.\")\n",
    "\n",
    "while True:\n",
    "    print(\"\\nLibrary Book Management System\")\n",
    "    print(\"1. View all books\")\n",
    "    print(\"2. Add a new book\")\n",
    "    print(\"3. Remove a book\")\n",
    "    print(\"4. Search for a book\")\n",
    "    print(\"5. Exit\")\n",
    "    choice = input(\"Enter your choice: \")\n",
    "    if choice == \"1\":\n",
    "        display_books()\n",
    "    elif choice == \"2\":\n",
    "        add_book()\n",
    "    elif choice == \"3\":\n",
    "        remove_book()\n",
    "    elif choice == \"4\":\n",
    "        search_book()\n",
    "    elif choice == \"5\":\n",
    "        print(\"Exiting the program. Goodbye!\")\n",
    "        break\n",
    "    else:\n",
    "        print(\"Invalid choice. Please try again.\")"
   ]
  },
  {
   "cell_type": "code",
   "execution_count": null,
   "id": "1a5899e2-9dae-40e7-acc0-672a75b6501a",
   "metadata": {},
   "outputs": [],
   "source": []
  }
 ],
 "metadata": {
  "kernelspec": {
   "display_name": "Python [conda env:anaconda3]",
   "language": "python",
   "name": "conda-env-anaconda3-py"
  },
  "language_info": {
   "codemirror_mode": {
    "name": "ipython",
    "version": 3
   },
   "file_extension": ".py",
   "mimetype": "text/x-python",
   "name": "python",
   "nbconvert_exporter": "python",
   "pygments_lexer": "ipython3",
   "version": "3.12.7"
  }
 },
 "nbformat": 4,
 "nbformat_minor": 5
}
